{
 "cells": [
  {
   "cell_type": "code",
   "execution_count": 1,
   "id": "2622dbc7",
   "metadata": {},
   "outputs": [],
   "source": [
    "import numpy as np"
   ]
  },
  {
   "cell_type": "code",
   "execution_count": 2,
   "id": "dead1f21",
   "metadata": {},
   "outputs": [
    {
     "data": {
      "text/plain": [
       "1"
      ]
     },
     "execution_count": 2,
     "metadata": {},
     "output_type": "execute_result"
    }
   ],
   "source": [
    "a=np.array([1,2,3,4])\n",
    "a.ndim"
   ]
  },
  {
   "cell_type": "code",
   "execution_count": 3,
   "id": "90d45fcf",
   "metadata": {},
   "outputs": [
    {
     "data": {
      "text/plain": [
       "(4,)"
      ]
     },
     "execution_count": 3,
     "metadata": {},
     "output_type": "execute_result"
    }
   ],
   "source": [
    "a.shape"
   ]
  },
  {
   "cell_type": "code",
   "execution_count": 4,
   "id": "672d806b",
   "metadata": {},
   "outputs": [
    {
     "data": {
      "text/plain": [
       "2"
      ]
     },
     "execution_count": 4,
     "metadata": {},
     "output_type": "execute_result"
    }
   ],
   "source": [
    "a=np.array([[1,2,3,4],[5,6,7,8]])\n",
    "a.ndim"
   ]
  },
  {
   "cell_type": "code",
   "execution_count": 5,
   "id": "42fdc2d9",
   "metadata": {},
   "outputs": [
    {
     "data": {
      "text/plain": [
       "(2, 4)"
      ]
     },
     "execution_count": 5,
     "metadata": {},
     "output_type": "execute_result"
    }
   ],
   "source": [
    "a.shape"
   ]
  },
  {
   "cell_type": "code",
   "execution_count": 6,
   "id": "c1da1c7b",
   "metadata": {},
   "outputs": [
    {
     "name": "stdout",
     "output_type": "stream",
     "text": [
      "[[1 2 3 4]\n",
      " [5 6 7 8]]\n"
     ]
    }
   ],
   "source": [
    "a=np.array([[1,2,3,4],[5,6,7,8]])\n",
    "print(a)"
   ]
  },
  {
   "cell_type": "code",
   "execution_count": 7,
   "id": "aaed59e5",
   "metadata": {},
   "outputs": [
    {
     "data": {
      "text/plain": [
       "7"
      ]
     },
     "execution_count": 7,
     "metadata": {},
     "output_type": "execute_result"
    }
   ],
   "source": [
    "a[1][2]"
   ]
  },
  {
   "cell_type": "code",
   "execution_count": 8,
   "id": "20a7c311",
   "metadata": {},
   "outputs": [
    {
     "name": "stdout",
     "output_type": "stream",
     "text": [
      "[[[1 2 3 4]\n",
      "  [5 6 7 8]]]\n"
     ]
    }
   ],
   "source": [
    "a=np.array([[[1,2,3,4],[5,6,7,8]]])\n",
    "print(a)"
   ]
  },
  {
   "cell_type": "code",
   "execution_count": 9,
   "id": "202f9440",
   "metadata": {},
   "outputs": [
    {
     "name": "stdout",
     "output_type": "stream",
     "text": [
      "(1, 2, 4)\n"
     ]
    }
   ],
   "source": [
    "print(a.shape)"
   ]
  },
  {
   "cell_type": "code",
   "execution_count": 10,
   "id": "0ac07b3d",
   "metadata": {},
   "outputs": [
    {
     "data": {
      "text/plain": [
       "3"
      ]
     },
     "execution_count": 10,
     "metadata": {},
     "output_type": "execute_result"
    }
   ],
   "source": [
    "a.ndim"
   ]
  },
  {
   "cell_type": "code",
   "execution_count": 11,
   "id": "070b0fa3",
   "metadata": {},
   "outputs": [
    {
     "data": {
      "text/plain": [
       "7"
      ]
     },
     "execution_count": 11,
     "metadata": {},
     "output_type": "execute_result"
    }
   ],
   "source": [
    "a[0][1][2]"
   ]
  },
  {
   "cell_type": "code",
   "execution_count": 13,
   "id": "88639388",
   "metadata": {},
   "outputs": [
    {
     "name": "stdout",
     "output_type": "stream",
     "text": [
      "[ 1  2  3  4  5  6  7  8  9 10]\n"
     ]
    }
   ],
   "source": [
    "a=np.arange(1,11)\n",
    "print(a)"
   ]
  },
  {
   "cell_type": "code",
   "execution_count": 15,
   "id": "3520cce7",
   "metadata": {},
   "outputs": [
    {
     "name": "stdout",
     "output_type": "stream",
     "text": [
      "[[ 1  2  3  4  5  6]\n",
      " [ 7  8  9 10 11 12]\n",
      " [13 14 15 16 17 18]\n",
      " [19 20 21 22 23 24]\n",
      " [25 26 27 28 29 30]\n",
      " [31 32 33 34 35 36]\n",
      " [37 38 39 40 41 42]\n",
      " [43 44 45 46 47 48]\n",
      " [49 50 51 52 53 54]\n",
      " [55 56 57 58 59 60]]\n"
     ]
    }
   ],
   "source": [
    "a=np.arange(1,61).reshape(10,6)\n",
    "print(a)"
   ]
  },
  {
   "cell_type": "code",
   "execution_count": 16,
   "id": "cd6d731b",
   "metadata": {},
   "outputs": [
    {
     "data": {
      "text/plain": [
       "10"
      ]
     },
     "execution_count": 16,
     "metadata": {},
     "output_type": "execute_result"
    }
   ],
   "source": [
    "a[1][3]"
   ]
  },
  {
   "cell_type": "code",
   "execution_count": 17,
   "id": "df187bed",
   "metadata": {},
   "outputs": [
    {
     "name": "stdout",
     "output_type": "stream",
     "text": [
      "[[[ 1  2  3  4  5  6]\n",
      "  [ 7  8  9 10 11 12]]\n",
      "\n",
      " [[13 14 15 16 17 18]\n",
      "  [19 20 21 22 23 24]]\n",
      "\n",
      " [[25 26 27 28 29 30]\n",
      "  [31 32 33 34 35 36]]\n",
      "\n",
      " [[37 38 39 40 41 42]\n",
      "  [43 44 45 46 47 48]]\n",
      "\n",
      " [[49 50 51 52 53 54]\n",
      "  [55 56 57 58 59 60]]]\n"
     ]
    }
   ],
   "source": [
    "a=np.arange(1,61).reshape(5,2,6)\n",
    "print(a)"
   ]
  },
  {
   "cell_type": "code",
   "execution_count": 18,
   "id": "834f665c",
   "metadata": {},
   "outputs": [
    {
     "data": {
      "text/plain": [
       "16"
      ]
     },
     "execution_count": 18,
     "metadata": {},
     "output_type": "execute_result"
    }
   ],
   "source": [
    "a[1][0][3]"
   ]
  },
  {
   "cell_type": "raw",
   "id": "675823a1",
   "metadata": {},
   "source": [
    "## linspace"
   ]
  },
  {
   "cell_type": "code",
   "execution_count": 1,
   "id": "9e9a78fb",
   "metadata": {},
   "outputs": [],
   "source": [
    "import numpy as np"
   ]
  },
  {
   "cell_type": "code",
   "execution_count": 5,
   "id": "0c3ae24d",
   "metadata": {},
   "outputs": [
    {
     "name": "stdout",
     "output_type": "stream",
     "text": [
      "[11.   13.25 15.5  17.75 20.  ]\n"
     ]
    }
   ],
   "source": [
    "a=np.linspace(11,20,5)\n",
    "print(a)"
   ]
  },
  {
   "cell_type": "raw",
   "id": "7751d450",
   "metadata": {},
   "source": [
    "## zeros"
   ]
  },
  {
   "cell_type": "code",
   "execution_count": 8,
   "id": "9b71f762",
   "metadata": {},
   "outputs": [
    {
     "name": "stdout",
     "output_type": "stream",
     "text": [
      "[[0. 0. 0.]\n",
      " [0. 0. 0.]\n",
      " [0. 0. 0.]]\n"
     ]
    }
   ],
   "source": [
    "a=np.zeros([3,3])\n",
    "print(a)"
   ]
  },
  {
   "cell_type": "raw",
   "id": "05e2454f",
   "metadata": {},
   "source": [
    "##ones"
   ]
  },
  {
   "cell_type": "code",
   "execution_count": 13,
   "id": "afc564de",
   "metadata": {},
   "outputs": [
    {
     "name": "stdout",
     "output_type": "stream",
     "text": [
      "[[1 1 1]\n",
      " [1 1 1]\n",
      " [1 1 1]]\n"
     ]
    }
   ],
   "source": [
    "a=np.ones((3,3),dtype=int)\n",
    "print(a)"
   ]
  },
  {
   "cell_type": "raw",
   "id": "ad45d02f",
   "metadata": {},
   "source": [
    "## diagonal"
   ]
  },
  {
   "cell_type": "code",
   "execution_count": 15,
   "id": "ab91f866",
   "metadata": {},
   "outputs": [
    {
     "name": "stdout",
     "output_type": "stream",
     "text": [
      "[[1 0 0 0]\n",
      " [0 2 0 0]\n",
      " [0 0 3 0]\n",
      " [0 0 0 4]]\n"
     ]
    }
   ],
   "source": [
    "a=np.diag([1,2,3,4])\n",
    "print(a)"
   ]
  },
  {
   "cell_type": "code",
   "execution_count": 16,
   "id": "08b9c85e",
   "metadata": {},
   "outputs": [],
   "source": [
    "## random vandit"
   ]
  },
  {
   "cell_type": "code",
   "execution_count": 17,
   "id": "986e0ebe",
   "metadata": {},
   "outputs": [
    {
     "name": "stdout",
     "output_type": "stream",
     "text": [
      "17\n"
     ]
    }
   ],
   "source": [
    "a=np.random.randint(10,20)\n",
    "print(a)"
   ]
  },
  {
   "cell_type": "code",
   "execution_count": 18,
   "id": "a162f5c9",
   "metadata": {},
   "outputs": [
    {
     "name": "stdout",
     "output_type": "stream",
     "text": [
      "[[0.35356353 0.1656598  0.36992087]\n",
      " [0.99206241 0.92375383 0.93461682]\n",
      " [0.24721001 0.279733   0.77951127]]\n"
     ]
    }
   ],
   "source": [
    "a=np.random.rand(3,3)\n",
    "print(a)"
   ]
  },
  {
   "cell_type": "code",
   "execution_count": 19,
   "id": "81d1c8dd",
   "metadata": {},
   "outputs": [
    {
     "name": "stdout",
     "output_type": "stream",
     "text": [
      "[[ 0.85146983 -0.34571479 -0.64719597]\n",
      " [-1.63421768 -0.46505874 -0.30787174]\n",
      " [-0.68132984 -0.48043806  0.12803292]]\n"
     ]
    }
   ],
   "source": [
    "a=np.random.randn(3,3)\n",
    "print(a)"
   ]
  },
  {
   "cell_type": "code",
   "execution_count": 20,
   "id": "7403d458",
   "metadata": {},
   "outputs": [
    {
     "name": "stdout",
     "output_type": "stream",
     "text": [
      "[[0.66260325 0.49715813 0.64823083]\n",
      " [0.29661984 0.79294384 0.57745952]\n",
      " [0.32381808 0.66722451 0.33794667]]\n"
     ]
    }
   ],
   "source": [
    "a=np.random.random((3,3))\n",
    "print(a)"
   ]
  },
  {
   "cell_type": "code",
   "execution_count": 21,
   "id": "cffb1532",
   "metadata": {},
   "outputs": [
    {
     "name": "stdout",
     "output_type": "stream",
     "text": [
      "[[1. 0.]\n",
      " [0. 1.]]\n"
     ]
    }
   ],
   "source": [
    "a=np.eye(2,2)\n",
    "print(a)"
   ]
  },
  {
   "cell_type": "code",
   "execution_count": 22,
   "id": "f2604117",
   "metadata": {},
   "outputs": [
    {
     "name": "stdout",
     "output_type": "stream",
     "text": [
      "[[1. 0. 0.]\n",
      " [0. 1. 0.]\n",
      " [0. 0. 1.]]\n"
     ]
    }
   ],
   "source": [
    "a=np.eye(3,3)\n",
    "print(a)"
   ]
  },
  {
   "cell_type": "code",
   "execution_count": 26,
   "id": "bae010e5",
   "metadata": {},
   "outputs": [
    {
     "name": "stdout",
     "output_type": "stream",
     "text": [
      "[[9 9 9]\n",
      " [9 9 9]\n",
      " [9 9 9]]\n"
     ]
    }
   ],
   "source": [
    "a=np.full((3,3),9,dtype=int)\n",
    "print(a)"
   ]
  },
  {
   "cell_type": "raw",
   "id": "7e39c250",
   "metadata": {},
   "source": [
    "## ravel is convertinng of 2d array to 1d array"
   ]
  },
  {
   "cell_type": "code",
   "execution_count": 30,
   "id": "0f8fd3a6",
   "metadata": {},
   "outputs": [
    {
     "name": "stdout",
     "output_type": "stream",
     "text": [
      "[[ 1  2  5  6]\n",
      " [11 12 13 14]]\n",
      "[ 1  2  5  6 11 12 13 14]\n"
     ]
    }
   ],
   "source": [
    "a=np.array([[1,2,5,6],[11,12,13,14]])\n",
    "print(a)\n",
    "b=a.ravel()\n",
    "print(b)\n"
   ]
  },
  {
   "cell_type": "raw",
   "id": "6d4ced7d",
   "metadata": {},
   "source": [
    "## transpose(T)-changing shape of array"
   ]
  },
  {
   "cell_type": "code",
   "execution_count": 33,
   "id": "eb886b26",
   "metadata": {},
   "outputs": [
    {
     "name": "stdout",
     "output_type": "stream",
     "text": [
      "[[ 1  2  5  6]\n",
      " [11 12 13 14]]\n",
      "[[ 1 11]\n",
      " [ 2 12]\n",
      " [ 5 13]\n",
      " [ 6 14]]\n",
      "(4, 2)\n"
     ]
    }
   ],
   "source": [
    "a=np.array([[1,2,5,6],[11,12,13,14]])\n",
    "print(a)\n",
    "b=a.T\n",
    "print(b)\n",
    "print(b.shape)\n"
   ]
  },
  {
   "cell_type": "raw",
   "id": "4e0369e5",
   "metadata": {},
   "source": [
    "## concatenate=add"
   ]
  },
  {
   "cell_type": "code",
   "execution_count": 38,
   "id": "52b4e43a",
   "metadata": {},
   "outputs": [
    {
     "name": "stdout",
     "output_type": "stream",
     "text": [
      "[[ 1  2  3  4]\n",
      " [ 5  6  7  8]\n",
      " [11 12 13 14]\n",
      " [15 16 17 18]]\n"
     ]
    }
   ],
   "source": [
    "a=np.array([[1,2,3,4],[5,6,7,8]])\n",
    "b=np.array([[11,12,13,14],[15,16,17,18]])\n",
    "c=np.concatenate([a,b])\n",
    "print(c)"
   ]
  },
  {
   "cell_type": "raw",
   "id": "71c24ad4",
   "metadata": {},
   "source": [
    "## V.stack and H-stack"
   ]
  },
  {
   "cell_type": "code",
   "execution_count": 39,
   "id": "16cfe562",
   "metadata": {},
   "outputs": [
    {
     "name": "stdout",
     "output_type": "stream",
     "text": [
      "[[ 1  2  3  4  5]\n",
      " [ 6  7  8  9 10]]\n"
     ]
    }
   ],
   "source": [
    "a=np.arange(1,11).reshape(2,5)\n",
    "print(a)"
   ]
  },
  {
   "cell_type": "code",
   "execution_count": 40,
   "id": "5fabae3a",
   "metadata": {},
   "outputs": [
    {
     "name": "stdout",
     "output_type": "stream",
     "text": [
      "[[31 32 33 34 35]\n",
      " [36 37 38 39 40]]\n"
     ]
    }
   ],
   "source": [
    "b=np.arange(31,41).reshape(2,5)\n",
    "print(b)"
   ]
  },
  {
   "cell_type": "code",
   "execution_count": 42,
   "id": "43e8a12d",
   "metadata": {},
   "outputs": [
    {
     "name": "stdout",
     "output_type": "stream",
     "text": [
      "[[ 1  2  3  4  5]\n",
      " [ 6  7  8  9 10]\n",
      " [31 32 33 34 35]\n",
      " [36 37 38 39 40]]\n"
     ]
    }
   ],
   "source": [
    "c=np.vstack((a,b))\n",
    "print(c)"
   ]
  },
  {
   "cell_type": "code",
   "execution_count": 43,
   "id": "27d3175f",
   "metadata": {},
   "outputs": [
    {
     "name": "stdout",
     "output_type": "stream",
     "text": [
      "[[ 1  2  3  4  5]\n",
      " [ 6  7  8  9 10]]\n",
      "[[31 32 33 34 35]\n",
      " [36 37 38 39 40]]\n",
      "[[ 1  2  3  4  5 31 32 33 34 35]\n",
      " [ 6  7  8  9 10 36 37 38 39 40]]\n"
     ]
    }
   ],
   "source": [
    "a=np.arange(1,11).reshape(2,5)\n",
    "print(a)\n",
    "b=np.arange(31,41).reshape(2,5)\n",
    "print(b)\n",
    "c=np.hstack((a,b))\n",
    "print(c)\n"
   ]
  },
  {
   "cell_type": "code",
   "execution_count": 44,
   "id": "f0203dc0",
   "metadata": {},
   "outputs": [
    {
     "name": "stdout",
     "output_type": "stream",
     "text": [
      "[10 26]\n"
     ]
    }
   ],
   "source": [
    "a=np.array([[1,2,3,4],[5,6,7,8]])\n",
    "b=np.sum(a,axis=1)\n",
    "print(b)\n"
   ]
  },
  {
   "cell_type": "code",
   "execution_count": 45,
   "id": "8d5b2896",
   "metadata": {},
   "outputs": [
    {
     "name": "stdout",
     "output_type": "stream",
     "text": [
      "[ 6  8 10 12]\n"
     ]
    }
   ],
   "source": [
    "a=np.array([[1,2,3,4],[5,6,7,8]])\n",
    "b=np.sum(a,axis=0)\n",
    "print(b)\n"
   ]
  },
  {
   "cell_type": "code",
   "execution_count": null,
   "id": "694f6d4a",
   "metadata": {},
   "outputs": [],
   "source": []
  }
 ],
 "metadata": {
  "kernelspec": {
   "display_name": "Python 3 (ipykernel)",
   "language": "python",
   "name": "python3"
  },
  "language_info": {
   "codemirror_mode": {
    "name": "ipython",
    "version": 3
   },
   "file_extension": ".py",
   "mimetype": "text/x-python",
   "name": "python",
   "nbconvert_exporter": "python",
   "pygments_lexer": "ipython3",
   "version": "3.9.12"
  }
 },
 "nbformat": 4,
 "nbformat_minor": 5
}
